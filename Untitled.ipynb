{
 "cells": [
  {
   "cell_type": "code",
   "execution_count": 1,
   "id": "15285188-f94f-4fd4-aa52-ebc847891521",
   "metadata": {},
   "outputs": [],
   "source": [
    "import requests\n",
    "import time\n",
    "import zipfile\n",
    "import os\n",
    "import geopandas as gpd\n",
    "import pandas as pd\n",
    "from shapely.geometry import Polygon\n",
    "\n",
    "# from the GRID3 webpage, delete everything on URL past FeatureServer/0.... \n",
    "# open webpage with updated URL and scroll to bottom, click query link and enter the following data:\n",
    "#   WHERE: \"adm1_name = 'Tigray'\"\n",
    "#   Output Spatial Reference: \"4326\"\n",
    "#   Format: \"GEOJSON\"\n",
    "#  Then click the [Query (GET)] button. You then see the data as Python would receive it below in response.json()\n",
    "# Copy the URL from this page and paste below to use this Tigray filtered FeatureCollection\n",
    "#response = requests.get(\n",
    "    #'https://services3.arcgis.com/BU6Aadhn6tbBEdyk/arcgis/rest/services/GRID3_Ethiopia_Settlement_Extents/FeatureServer/0//query?where=adm1_name+%3D+%27Tigray%27+and+Shape__Area+%3E+.000002&objectIds=&time=&geometry=&geometryType=esriGeometryEnvelope&inSR=&spatialRel=esriSpatialRelIntersects&resultType=none&distance=0.0&units=esriSRUnit_Meter&returnGeodetic=false&outFields=&returnGeometry=true&returnCentroid=false&featureEncoding=esriDefault&multipatchOption=xyFootprint&maxAllowableOffset=&geometryPrecision=&outSR=4326&datumTransformation=&applyVCSProjection=false&returnIdsOnly=false&returnUniqueIdsOnly=false&returnCountOnly=false&returnExtentOnly=false&returnQueryGeometry=false&returnDistinctValues=false&cacheHint=false&orderByFields=&groupByFieldsForStatistics=&outStatistics=&having=&resultOffset=&resultRecordCount=&returnZ=false&returnM=false&returnExceededLimitFeatures=true&quantizationParameters=&sqlFormat=none&f=pgeojson&token=')\n",
    "#if response.status_code == 200:\n",
    "    #print('Request successful.')\n",
    "    #data_tigray = response.json()\n",
    "    #print(len(data['features']))\n",
    "    # print(data.objectIdFieldName)\n",
    "#else:\n",
    "    #print('Request failed.')\n",
    "\n",
    "# Ok, now what data do I even have? Validate here."
   ]
  },
  {
   "cell_type": "code",
   "execution_count": 2,
   "id": "e34536e5-9bef-40e7-bea4-f5df292ea325",
   "metadata": {},
   "outputs": [],
   "source": [
    "data_pkg_path = 'data'\n",
    "filename = 'GRID_Ethiopia_SizeFilter_FIX.gpkg'\n",
    "filename2 = 'tigray.geojson'\n",
    "path = os.path.join(data_pkg_path, filename) # /data/output2.gokg\n",
    "path2 = os.path.join(data_pkg_path, filename2)"
   ]
  },
  {
   "cell_type": "code",
   "execution_count": 3,
   "id": "5c59da5a-5fe0-40f3-a69f-393b56f0eec3",
   "metadata": {
    "tags": []
   },
   "outputs": [
    {
     "name": "stdout",
     "output_type": "stream",
     "text": [
      "<class 'geopandas.geodataframe.GeoDataFrame'>\n"
     ]
    }
   ],
   "source": [
    "pop_places = gpd.read_file(\n",
    "    path,\n",
    "    layer='GRID3'\n",
    ")\n",
    "#print(pop_places.head(1))\n",
    "print(type(pop_places))\n"
   ]
  },
  {
   "cell_type": "code",
   "execution_count": null,
   "id": "3b5a5eab-ceca-4bb4-bf59-569d061129ab",
   "metadata": {
    "tags": []
   },
   "outputs": [],
   "source": [
    "#print(pop_places.info())\n",
    "#pop_places_mask = pop_places[(pop_places['Shape_Area']>.00002)] #unit?\n",
    "# todo: this is a series and needs to be a GeoSeries/MultiPolygon\n",
    "#print(type(pop_places_mask))"
   ]
  },
  {
   "cell_type": "code",
   "execution_count": null,
   "id": "5d068ee5-d4de-40e8-9ec8-f1bb8453e046",
   "metadata": {
    "tags": []
   },
   "outputs": [],
   "source": [
    "#print(pop_places.geometry)"
   ]
  },
  {
   "cell_type": "code",
   "execution_count": 4,
   "id": "25212b94-10da-43c3-8933-86beec3d03f5",
   "metadata": {},
   "outputs": [
    {
     "name": "stdout",
     "output_type": "stream",
     "text": [
      "   Shape_Leng  Shape_Area ADM1_EN ADM1_PCODE ADM1_REF ADM1ALT1EN ADM1ALT2EN  \\\n",
      "0   15.657722    4.399126  Tigray       ET01     None       None       None   \n",
      "\n",
      "    ADM0_EN ADM0_PCODE        date     validOn  \\\n",
      "0  Ethiopia         ET  2019-08-19  2020-10-08   \n",
      "\n",
      "                                            geometry  \n",
      "0  POLYGON ((37.94371 14.84141, 37.94533 14.83518...  \n"
     ]
    }
   ],
   "source": [
    "tigray = gpd.read_file(path2, layer='tigray')\n",
    "print(tigray.head())"
   ]
  },
  {
   "cell_type": "code",
   "execution_count": 5,
   "id": "7dc1eff4-a2f2-4900-9129-e69882b92296",
   "metadata": {},
   "outputs": [
    {
     "data": {
      "text/plain": [
       "(1, 12)"
      ]
     },
     "execution_count": 5,
     "metadata": {},
     "output_type": "execute_result"
    }
   ],
   "source": [
    "tigray.shape"
   ]
  },
  {
   "cell_type": "code",
   "execution_count": 8,
   "id": "0e61dfdd-de8f-449f-9447-714d848c83dc",
   "metadata": {},
   "outputs": [
    {
     "name": "stdout",
     "output_type": "stream",
     "text": [
      "   OBJECTID  Shape_Area_1  type   population   pop_un_adj adm1_name  \\\n",
      "0   1438822      0.000021  None   121.156049   134.023034    Amhara   \n",
      "1   1438823      0.000036  None  1136.961095  1257.708349    Amhara   \n",
      "2   1438831      0.000159  None  3552.352736  3929.618795    Amhara   \n",
      "3   1438832      0.000029  None   404.109499   447.026634    Amhara   \n",
      "4   1438888      0.000022  None   176.672990   195.435968    Amhara   \n",
      "\n",
      "        adm2_name  Shape_Leng  Shape_Area_2 ADM1_EN ADM1_PCODE ADM1_REF  \\\n",
      "0  Central Gondar   15.657722      4.399126  Tigray       ET01     None   \n",
      "1  Central Gondar   15.657722      4.399126  Tigray       ET01     None   \n",
      "2  Central Gondar   15.657722      4.399126  Tigray       ET01     None   \n",
      "3  Central Gondar   15.657722      4.399126  Tigray       ET01     None   \n",
      "4  Central Gondar   15.657722      4.399126  Tigray       ET01     None   \n",
      "\n",
      "  ADM1ALT1EN ADM1ALT2EN   ADM0_EN ADM0_PCODE        date     validOn  \\\n",
      "0       None       None  Ethiopia         ET  2019-08-19  2020-10-08   \n",
      "1       None       None  Ethiopia         ET  2019-08-19  2020-10-08   \n",
      "2       None       None  Ethiopia         ET  2019-08-19  2020-10-08   \n",
      "3       None       None  Ethiopia         ET  2019-08-19  2020-10-08   \n",
      "4       None       None  Ethiopia         ET  2019-08-19  2020-10-08   \n",
      "\n",
      "                                            geometry  \n",
      "0  MULTIPOLYGON (((37.13882 13.31064, 37.13847 13...  \n",
      "1  POLYGON ((37.08111 13.31326, 37.07956 13.31244...  \n",
      "2  MULTIPOLYGON (((37.03074 13.35387, 37.03108 13...  \n",
      "3  POLYGON ((36.77091 13.38497, 36.77112 13.38542...  \n",
      "4  POLYGON ((37.39346 13.35803, 37.39368 13.35812...  \n",
      "<class 'geopandas.geodataframe.GeoDataFrame'>\n"
     ]
    }
   ],
   "source": [
    "tigray_pop_places = pop_places.overlay(tigray, how= 'intersection')\n",
    "print(tigray_pop_places.head())\n",
    "print(type(tigray_pop_places))\n",
    "\n"
   ]
  },
  {
   "cell_type": "code",
   "execution_count": 12,
   "id": "59eafb0c-ebe7-4e69-a31d-02c40512e8ca",
   "metadata": {},
   "outputs": [
    {
     "name": "stderr",
     "output_type": "stream",
     "text": [
      "/var/folders/f1/nhcskb_91c5fm4yxpx4xjzw80000gn/T/ipykernel_37540/4111766920.py:5: UserWarning: Column names longer than 10 characters will be truncated when saved to ESRI Shapefile.\n",
      "  tigray_pop_places.to_file('test.shp')\n"
     ]
    },
    {
     "name": "stdout",
     "output_type": "stream",
     "text": [
      "Successfully written output file at output/test.shp\n"
     ]
    }
   ],
   "source": [
    "# export the file to double check \n",
    "#output_dir = 'output'\n",
    "#output_filename = 'test.shp'\n",
    "#output_path = os.path.join(output_dir, output_filename)\n",
    "\n",
    "#tigray_pop_places.to_file('test.shp')\n",
    "#print('Successfully written output file at {}'.format(output_path))\n"
   ]
  },
  {
   "cell_type": "code",
   "execution_count": null,
   "id": "c4182ca2-d38c-4077-82c5-943060500ea0",
   "metadata": {},
   "outputs": [],
   "source": []
  },
  {
   "cell_type": "code",
   "execution_count": null,
   "id": "1e1a960c-7400-489c-8c68-791cf9b5d664",
   "metadata": {
    "tags": []
   },
   "outputs": [],
   "source": [
    "#did not work well\n",
    "#tigray_pop_places = gpd.clip(tigray,pop_places) \n",
    "#tigray_pop_places.count\n",
    "#print(tigray_pop_places.info())"
   ]
  },
  {
   "cell_type": "code",
   "execution_count": 13,
   "id": "b18ba5cf-2f1e-42fd-a90d-d8b3673a74ef",
   "metadata": {},
   "outputs": [],
   "source": [
    "def make_folder_name(localtime):\n",
    "    '''\n",
    "    Function to set up folder names according to our current local date and time\n",
    "    \n",
    "    Arguments:\n",
    "    localtime -- current time as time.struct_time\n",
    "    \n",
    "    Returns:\n",
    "    string -- string for naming folders (month_day_hour_minutes_pm or _am)\n",
    "    \"\"\"\n",
    "    '''\n",
    "    if localtime.tm_hour > 12:\n",
    "        string = str(localtime.tm_mon)+'_'+str(localtime.tm_mday)+'_'+\\\n",
    "        str(localtime.tm_hour-12)+'_'+str(localtime.tm_min)+'_pm'\n",
    "    else:\n",
    "        string =str(localtime.tm_mon)+'_'+str(localtime.tm_mday)+'_'+\\\n",
    "        str(localtime.tm_hour)+'_'+str(localtime.tm_min)+'_am'\n",
    "    return string"
   ]
  },
  {
   "cell_type": "code",
   "execution_count": 20,
   "id": "8eb35a5b-5b11-488e-a37b-876e2aa9800e",
   "metadata": {},
   "outputs": [],
   "source": [
    "SNPP_VIIRS = 'https://firms.modaps.eosdis.nasa.gov/data/active_fire/suomi-npp-viirs-c2/shapes/zips/SUOMI_VIIRS_C2_Northern_and_Central_Africa_7d.zip'\n",
    "SNPP_FILENAME = 'snpp'\n",
    "\n",
    "# list to store folder names\n",
    "folder_names = []\n",
    "localtime = time.localtime(time.time())\n",
    "\n",
    "# download the file content in binary format\n",
    "r = requests.get(SNPP_VIIRS)\n",
    "\n",
    "# open method to open a file on your system and write the contents\n",
    "with open(SNPP_FILENAME, \"wb\") as code:\n",
    "    code.write(r.content)\n",
    "\n",
    "# unzip data\n",
    "zip_ref = zipfile.ZipFile(SNPP_FILENAME, 'r')\n",
    "name = make_folder_name(localtime)+'_'+SNPP_FILENAME\n",
    "folder_names.append(name)\n",
    "zip_ref.extractall(name)\n",
    "zip_ref.close()\n",
    "# remove zipped file after unzipping\n",
    "os.remove(SNPP_FILENAME)\n",
    "\n",
    "# Now we have the Shapefile for the VIIRS 375m / S-NPP data in the new directory named MONTH_DAY_HOUR_MIN_am/pm_snpp"
   ]
  },
  {
   "cell_type": "code",
   "execution_count": 19,
   "id": "1e2cbcb5-0a0e-43ef-8f66-ecebae56b696",
   "metadata": {},
   "outputs": [],
   "source": [
    "NOAA_VIIRS = 'https://firms.modaps.eosdis.nasa.gov/data/active_fire/noaa-20-viirs-c2/shapes/zips/J1_VIIRS_C2_Northern_and_Central_Africa_7d.zip'\n",
    "NOAA_FILENAME = 'noaa'\n",
    "\n",
    "# list to store folder names\n",
    "folder_names2 = []\n",
    "localtime2 = time.localtime(time.time())\n",
    "\n",
    "# download the file content in binary format\n",
    "r = requests.get(NOAA_VIIRS)\n",
    "\n",
    "# open method to open a file on your system and write the contents\n",
    "with open(NOAA_FILENAME, \"wb\") as code:\n",
    "    code.write(r.content)\n",
    "\n",
    "# unzip data\n",
    "zip_ref = zipfile.ZipFile(NOAA_FILENAME, 'r')\n",
    "name2 = make_folder_name(localtime2)+'_'+NOAA_FILENAME\n",
    "folder_names2.append(name2)\n",
    "zip_ref.extractall(name2)\n",
    "zip_ref.close()\n",
    "# remove zipped file after unzipping\n",
    "os.remove(NOAA_FILENAME)"
   ]
  },
  {
   "cell_type": "code",
   "execution_count": 23,
   "id": "cc415398-d3c0-498b-b79d-ef5b1960101e",
   "metadata": {},
   "outputs": [
    {
     "name": "stdout",
     "output_type": "stream",
     "text": [
      "2_6_8_15_pm_snpp/SUOMI_VIIRS_C2_Northern_and_Central_Africa_7d.shp\n"
     ]
    }
   ],
   "source": [
    "path = os.path.join(name, 'SUOMI_VIIRS_C2_Northern_and_Central_Africa_7d.shp') \n",
    "print (path)\n"
   ]
  },
  {
   "cell_type": "code",
   "execution_count": 24,
   "id": "799a0157-ec26-4db1-a9a4-66622b2e61ea",
   "metadata": {},
   "outputs": [
    {
     "name": "stdout",
     "output_type": "stream",
     "text": [
      "<class 'geopandas.geodataframe.GeoDataFrame'>\n"
     ]
    }
   ],
   "source": [
    "SNPP_VIIRS = gpd.read_file(\n",
    "    path\n",
    ")\n",
    "print(type(SNPP_VIIRS))"
   ]
  },
  {
   "cell_type": "code",
   "execution_count": 26,
   "id": "b8df4b3f-ff5a-4599-a6bc-d5c69f381be9",
   "metadata": {},
   "outputs": [
    {
     "name": "stdout",
     "output_type": "stream",
     "text": [
      "2_6_8_15_pm_noaa/J1_VIIRS_C2_Northern_and_Central_Africa_7d.shp\n"
     ]
    }
   ],
   "source": [
    "path = os.path.join(name2, 'J1_VIIRS_C2_Northern_and_Central_Africa_7d.shp') \n",
    "print (path)\n",
    "\n"
   ]
  },
  {
   "cell_type": "code",
   "execution_count": 27,
   "id": "27eda054-2ac3-47db-b378-884abfb4a9ea",
   "metadata": {},
   "outputs": [
    {
     "name": "stdout",
     "output_type": "stream",
     "text": [
      "<class 'geopandas.geodataframe.GeoDataFrame'>\n"
     ]
    }
   ],
   "source": [
    "NOAA_VIIRS = gpd.read_file(\n",
    "    path\n",
    ")\n",
    "print(type(NOAA_VIIRS))"
   ]
  },
  {
   "cell_type": "code",
   "execution_count": 33,
   "id": "b99c75dd-41de-4683-b089-ea581e643eb0",
   "metadata": {},
   "outputs": [],
   "source": [
    "tigray_pop_fire = gpd.clip(tigray_pop_places,SNPP_VIIRS) \n",
    "\n",
    "#print(tigray_pop_places.info())"
   ]
  },
  {
   "cell_type": "code",
   "execution_count": 29,
   "id": "7b963bcc-8b16-4f61-8268-2741267e07e7",
   "metadata": {},
   "outputs": [
    {
     "name": "stdout",
     "output_type": "stream",
     "text": [
      "<class 'geopandas.geodataframe.GeoDataFrame'>\n",
      "Int64Index: 3 entries, 2739 to 2752\n",
      "Data columns (total 19 columns):\n",
      " #   Column        Non-Null Count  Dtype   \n",
      "---  ------        --------------  -----   \n",
      " 0   OBJECTID      3 non-null      int64   \n",
      " 1   Shape_Area_1  3 non-null      float64 \n",
      " 2   type          0 non-null      object  \n",
      " 3   population    3 non-null      float64 \n",
      " 4   pop_un_adj    3 non-null      float64 \n",
      " 5   adm1_name     3 non-null      object  \n",
      " 6   adm2_name     3 non-null      object  \n",
      " 7   Shape_Leng    3 non-null      float64 \n",
      " 8   Shape_Area_2  3 non-null      float64 \n",
      " 9   ADM1_EN       3 non-null      object  \n",
      " 10  ADM1_PCODE    3 non-null      object  \n",
      " 11  ADM1_REF      0 non-null      object  \n",
      " 12  ADM1ALT1EN    0 non-null      object  \n",
      " 13  ADM1ALT2EN    0 non-null      object  \n",
      " 14  ADM0_EN       3 non-null      object  \n",
      " 15  ADM0_PCODE    3 non-null      object  \n",
      " 16  date          3 non-null      object  \n",
      " 17  validOn       3 non-null      object  \n",
      " 18  geometry      3 non-null      geometry\n",
      "dtypes: float64(5), geometry(1), int64(1), object(12)\n",
      "memory usage: 480.0+ bytes\n",
      "None\n"
     ]
    }
   ],
   "source": [
    "tigray_pop_fire.count\n",
    "print(tigray_pop_fire.info())"
   ]
  },
  {
   "cell_type": "code",
   "execution_count": 32,
   "id": "6417c1aa-bdca-41b5-949b-b374ef190009",
   "metadata": {},
   "outputs": [],
   "source": [
    "tigray_pop_fire2 = gpd.clip(tigray_pop_places,NOAA_VIIRS) "
   ]
  },
  {
   "cell_type": "code",
   "execution_count": 45,
   "id": "9a174806-6908-41e5-a421-0d4a6c87e4a0",
   "metadata": {
    "tags": []
   },
   "outputs": [
    {
     "name": "stdout",
     "output_type": "stream",
     "text": [
      "Successfully written output file at output/SNPP_Fires_Tigray.gpkg\n"
     ]
    }
   ],
   "source": [
    "output_dir = 'output'\n",
    "output_filename = 'SNPP_Fires_Tigray.gpkg'\n",
    "output_path = os.path.join(output_dir, output_filename)\n",
    "tigray_pop_fire.to_file(driver='GPKG', filename=output_path, encoding='utf-8')\n",
    "print('Successfully written output file at {}'.format(output_path))\n"
   ]
  },
  {
   "cell_type": "code",
   "execution_count": 46,
   "id": "7dfd2e1e-fe76-44bb-9be3-37083b57f396",
   "metadata": {},
   "outputs": [
    {
     "name": "stdout",
     "output_type": "stream",
     "text": [
      "Successfully written output file at output/NOAA_Fires_Tigray.gpkg\n"
     ]
    }
   ],
   "source": [
    "output_dir = 'output'\n",
    "output_filename = 'NOAA_Fires_Tigray.gpkg'\n",
    "output_path = os.path.join(output_dir, output_filename)\n",
    "tigray_pop_fire2.to_file(driver='GPKG', filename=output_path, encoding='utf-8')\n",
    "print('Successfully written output file at {}'.format(output_path))"
   ]
  },
  {
   "cell_type": "code",
   "execution_count": null,
   "id": "c8939390-3464-46ca-85ec-8a87963b2906",
   "metadata": {},
   "outputs": [],
   "source": [
    "# Now with GeoPandas, clip/intersect Fire data to GRID3 (Tigray) data\n",
    "# tigray_pop_places"
   ]
  },
  {
   "cell_type": "code",
   "execution_count": null,
   "id": "a6ef2571-65d4-43c3-84db-f8cbe9c61057",
   "metadata": {},
   "outputs": [],
   "source": [
    "# Create Shapefile/GeoJSON/File GeoDatabase/KML/KMZ with the result to load into Google Earth"
   ]
  }
 ],
 "metadata": {
  "kernelspec": {
   "display_name": "Python 3 (ipykernel)",
   "language": "python",
   "name": "python3"
  },
  "language_info": {
   "codemirror_mode": {
    "name": "ipython",
    "version": 3
   },
   "file_extension": ".py",
   "mimetype": "text/x-python",
   "name": "python",
   "nbconvert_exporter": "python",
   "pygments_lexer": "ipython3",
   "version": "3.9.7"
  }
 },
 "nbformat": 4,
 "nbformat_minor": 5
}
